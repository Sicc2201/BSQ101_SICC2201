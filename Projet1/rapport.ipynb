{
 "cells": [
  {
   "cell_type": "markdown",
   "metadata": {},
   "source": [
    "#  <h1><center>Projet 1</center></h1>\n",
    "#  <h1><center> BSQ101 - Projets intégrateurs en programmation quantique</center></h1>\n",
    "## <center>févier 2024</center>\n",
    "<br>\n",
    "\n",
    "## <center>Par</center>\n",
    "### <center>Christopher Sicotte (SICC2201)</center>"
   ]
  },
  {
   "cell_type": "markdown",
   "metadata": {},
   "source": []
  }
 ],
 "metadata": {
  "language_info": {
   "name": "python"
  }
 },
 "nbformat": 4,
 "nbformat_minor": 2
}
